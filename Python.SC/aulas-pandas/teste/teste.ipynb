{
 "cells": [
  {
   "cell_type": "code",
   "execution_count": null,
   "id": "9b56271f-30c6-4275-8f69-fd72b1040253",
   "metadata": {},
   "outputs": [],
   "source": [
    "## COMANDOS FACILITADORES\n"
   ]
  },
  {
   "cell_type": "code",
   "execution_count": null,
   "id": "5d3241fe-be92-4804-8805-8574b2098cf9",
   "metadata": {},
   "outputs": [],
   "source": [
    "a == +uma celular a cima"
   ]
  },
  {
   "cell_type": "code",
   "execution_count": 1,
   "id": "39f22c09-6ac9-419c-a4c4-3c300f58b824",
   "metadata": {},
   "outputs": [
    {
     "data": {
      "text/plain": [
       "10"
      ]
     },
     "execution_count": 1,
     "metadata": {},
     "output_type": "execute_result"
    }
   ],
   "source": [
    "NU = 10\n",
    "##       ctrl + enter == run_code\n",
    "NU"
   ]
  },
  {
   "cell_type": "code",
   "execution_count": null,
   "id": "8e2d329d-5fdc-46a6-b2c9-5d4b95fb9dce",
   "metadata": {},
   "outputs": [],
   "source": [
    "b == +uma celular a baixo"
   ]
  },
  {
   "cell_type": "code",
   "execution_count": null,
   "id": "5c2c9287-6af3-4784-8d66-1ee99f6fb33e",
   "metadata": {},
   "outputs": [],
   "source": [
    "d, d == delete_celula"
   ]
  }
 ],
 "metadata": {
  "kernelspec": {
   "display_name": "Python 3 (ipykernel)",
   "language": "python",
   "name": "python3"
  },
  "language_info": {
   "codemirror_mode": {
    "name": "ipython",
    "version": 3
   },
   "file_extension": ".py",
   "mimetype": "text/x-python",
   "name": "python",
   "nbconvert_exporter": "python",
   "pygments_lexer": "ipython3",
   "version": "3.12.7"
  }
 },
 "nbformat": 4,
 "nbformat_minor": 5
}
